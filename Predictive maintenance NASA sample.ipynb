{
  "cells": [
    {
      "metadata": {},
      "cell_type": "markdown",
      "source": "# Microsoft Azure Automated ML デモ"
    },
    {
      "metadata": {},
      "cell_type": "markdown",
      "source": "## 目的と課題"
    },
    {
      "metadata": {},
      "cell_type": "markdown",
      "source": "このノートブックの目的は、Azure Machine Learning（AML）サービス（プレビュー）を使用して、ユーザーが Machine Learning（ML）アプリケーションを構築および展開することです。ここで取り組む課題は、単純な予測保守ソリューションです。\n\nこのノートブックには、モデルをロード、準備、トレーニング、および展開するための完全なコードがあります。このデモでは、わずか数分でプロセス全体を実行できるように、小さなパブリックデータセットを選択しました。AML サービスは、あらゆる問題に対処し、新しい機能を追加するために絶えず更新されています。\n\nこのノートブックは、すべて Azure でデモを実行できるように、Azure Notebooks サービスを使用してテストされています。\n\n以下は、手順の概要です。\n\n1. データの取得と準備\n2. Automated ML\n3. モデルの配置"
    },
    {
      "metadata": {},
      "cell_type": "markdown",
      "source": "## 1. データの取得と準備\nこのノートブックでは、NASA 予報センターの Turbo-Fan Failure データセットを使用します。データセットは既にこのプロジェクト内にありますが、元のデータセットは以下で参照できます：\nhttps://ti.arc.nasa.gov/tech/dash/groups/pcoe/prognostic-data-repository/#turbofan\n\nこのスクリプトファイルと同じフォルダに .txt ファイルがあります。それを Pandas DataFrame に読み込みます。ヘッダーはスペース区切りのtxtファイルには含まれていないので、zip ファイルの ReadMe から割り当てます。Pamdas では、read_csv メソッドで、スペースで区切られたファイルを delimiter オプションとともに使用します。"
    },
    {
      "metadata": {
        "trusted": true
      },
      "cell_type": "code",
      "source": "import pandas as pd\ntrain = pd.read_csv(\"train_FD001.txt\", delimiter=\"\\s|\\s\\s\", index_col=False, engine='python', names=['unit','cycle','os1','os2','os3','sm1','sm2','sm3','sm4','sm5','sm6','sm7','sm8','sm9','sm10','sm11','sm12','sm13','sm14','sm15','sm16','sm17','sm18','sm19','sm20','sm21'])",
      "execution_count": 1,
      "outputs": []
    },
    {
      "metadata": {},
      "cell_type": "markdown",
      "source": "データを簡単に見てみます。"
    },
    {
      "metadata": {
        "trusted": true
      },
      "cell_type": "code",
      "source": "train.head(5)",
      "execution_count": 2,
      "outputs": [
        {
          "output_type": "execute_result",
          "execution_count": 2,
          "data": {
            "text/html": "<div>\n<style scoped>\n    .dataframe tbody tr th:only-of-type {\n        vertical-align: middle;\n    }\n\n    .dataframe tbody tr th {\n        vertical-align: top;\n    }\n\n    .dataframe thead th {\n        text-align: right;\n    }\n</style>\n<table border=\"1\" class=\"dataframe\">\n  <thead>\n    <tr style=\"text-align: right;\">\n      <th></th>\n      <th>unit</th>\n      <th>cycle</th>\n      <th>os1</th>\n      <th>os2</th>\n      <th>os3</th>\n      <th>sm1</th>\n      <th>sm2</th>\n      <th>sm3</th>\n      <th>sm4</th>\n      <th>sm5</th>\n      <th>...</th>\n      <th>sm12</th>\n      <th>sm13</th>\n      <th>sm14</th>\n      <th>sm15</th>\n      <th>sm16</th>\n      <th>sm17</th>\n      <th>sm18</th>\n      <th>sm19</th>\n      <th>sm20</th>\n      <th>sm21</th>\n    </tr>\n  </thead>\n  <tbody>\n    <tr>\n      <th>0</th>\n      <td>1</td>\n      <td>1</td>\n      <td>-0.0007</td>\n      <td>-0.0004</td>\n      <td>100.0</td>\n      <td>518.67</td>\n      <td>641.82</td>\n      <td>1589.70</td>\n      <td>1400.60</td>\n      <td>14.62</td>\n      <td>...</td>\n      <td>521.66</td>\n      <td>2388.02</td>\n      <td>8138.62</td>\n      <td>8.4195</td>\n      <td>0.03</td>\n      <td>392</td>\n      <td>2388</td>\n      <td>100.0</td>\n      <td>39.06</td>\n      <td>23.4190</td>\n    </tr>\n    <tr>\n      <th>1</th>\n      <td>1</td>\n      <td>2</td>\n      <td>0.0019</td>\n      <td>-0.0003</td>\n      <td>100.0</td>\n      <td>518.67</td>\n      <td>642.15</td>\n      <td>1591.82</td>\n      <td>1403.14</td>\n      <td>14.62</td>\n      <td>...</td>\n      <td>522.28</td>\n      <td>2388.07</td>\n      <td>8131.49</td>\n      <td>8.4318</td>\n      <td>0.03</td>\n      <td>392</td>\n      <td>2388</td>\n      <td>100.0</td>\n      <td>39.00</td>\n      <td>23.4236</td>\n    </tr>\n    <tr>\n      <th>2</th>\n      <td>1</td>\n      <td>3</td>\n      <td>-0.0043</td>\n      <td>0.0003</td>\n      <td>100.0</td>\n      <td>518.67</td>\n      <td>642.35</td>\n      <td>1587.99</td>\n      <td>1404.20</td>\n      <td>14.62</td>\n      <td>...</td>\n      <td>522.42</td>\n      <td>2388.03</td>\n      <td>8133.23</td>\n      <td>8.4178</td>\n      <td>0.03</td>\n      <td>390</td>\n      <td>2388</td>\n      <td>100.0</td>\n      <td>38.95</td>\n      <td>23.3442</td>\n    </tr>\n    <tr>\n      <th>3</th>\n      <td>1</td>\n      <td>4</td>\n      <td>0.0007</td>\n      <td>0.0000</td>\n      <td>100.0</td>\n      <td>518.67</td>\n      <td>642.35</td>\n      <td>1582.79</td>\n      <td>1401.87</td>\n      <td>14.62</td>\n      <td>...</td>\n      <td>522.86</td>\n      <td>2388.08</td>\n      <td>8133.83</td>\n      <td>8.3682</td>\n      <td>0.03</td>\n      <td>392</td>\n      <td>2388</td>\n      <td>100.0</td>\n      <td>38.88</td>\n      <td>23.3739</td>\n    </tr>\n    <tr>\n      <th>4</th>\n      <td>1</td>\n      <td>5</td>\n      <td>-0.0019</td>\n      <td>-0.0002</td>\n      <td>100.0</td>\n      <td>518.67</td>\n      <td>642.37</td>\n      <td>1582.85</td>\n      <td>1406.22</td>\n      <td>14.62</td>\n      <td>...</td>\n      <td>522.19</td>\n      <td>2388.04</td>\n      <td>8133.80</td>\n      <td>8.4294</td>\n      <td>0.03</td>\n      <td>393</td>\n      <td>2388</td>\n      <td>100.0</td>\n      <td>38.90</td>\n      <td>23.4044</td>\n    </tr>\n  </tbody>\n</table>\n<p>5 rows × 26 columns</p>\n</div>",
            "text/plain": "   unit  cycle     os1     os2    os3     sm1     sm2      sm3      sm4  \\\n0     1      1 -0.0007 -0.0004  100.0  518.67  641.82  1589.70  1400.60   \n1     1      2  0.0019 -0.0003  100.0  518.67  642.15  1591.82  1403.14   \n2     1      3 -0.0043  0.0003  100.0  518.67  642.35  1587.99  1404.20   \n3     1      4  0.0007  0.0000  100.0  518.67  642.35  1582.79  1401.87   \n4     1      5 -0.0019 -0.0002  100.0  518.67  642.37  1582.85  1406.22   \n\n     sm5   ...       sm12     sm13     sm14    sm15  sm16  sm17  sm18   sm19  \\\n0  14.62   ...     521.66  2388.02  8138.62  8.4195  0.03   392  2388  100.0   \n1  14.62   ...     522.28  2388.07  8131.49  8.4318  0.03   392  2388  100.0   \n2  14.62   ...     522.42  2388.03  8133.23  8.4178  0.03   390  2388  100.0   \n3  14.62   ...     522.86  2388.08  8133.83  8.3682  0.03   392  2388  100.0   \n4  14.62   ...     522.19  2388.04  8133.80  8.4294  0.03   393  2388  100.0   \n\n    sm20     sm21  \n0  39.06  23.4190  \n1  39.00  23.4236  \n2  38.95  23.3442  \n3  38.88  23.3739  \n4  38.90  23.4044  \n\n[5 rows x 26 columns]"
          },
          "metadata": {}
        }
      ]
    },
    {
      "metadata": {},
      "cell_type": "markdown",
      "source": "データセットにはたくさんのエンジンユニットがあり、各エンジンについて、サイクル（回数）として毎回の飛行がリスト化されています。サイクルはエンジンが故障するまでカウントアップされます。私たちが予測したいのは「故障するまでのサイクル数」です。そのため、RUL、つまり残存有効寿命という新しい列を計算する必要があります。これは、最後のサイクル値から単位あたりの各サイクル値を引いたものになります。"
    },
    {
      "metadata": {
        "trusted": true
      },
      "cell_type": "code",
      "source": "# Assign ground truth\ndef assignrul(df):\n    maxi = df['cycle'].max()\n    df['rul'] = maxi - df['cycle']\n    return df\n    \n\ntrain_new = train.groupby('unit').apply(assignrul)\n\ntrain_new.columns",
      "execution_count": 3,
      "outputs": [
        {
          "output_type": "execute_result",
          "execution_count": 3,
          "data": {
            "text/plain": "Index(['unit', 'cycle', 'os1', 'os2', 'os3', 'sm1', 'sm2', 'sm3', 'sm4', 'sm5',\n       'sm6', 'sm7', 'sm8', 'sm9', 'sm10', 'sm11', 'sm12', 'sm13', 'sm14',\n       'sm15', 'sm16', 'sm17', 'sm18', 'sm19', 'sm20', 'sm21', 'rul'],\n      dtype='object')"
          },
          "metadata": {}
        }
      ]
    },
    {
      "metadata": {},
      "cell_type": "markdown",
      "source": "データフレームには 'RUL' 列があります。この値を予測することがこのワークショップの目的です。"
    },
    {
      "metadata": {
        "trusted": true
      },
      "cell_type": "code",
      "source": "train_new.head(5)",
      "execution_count": 4,
      "outputs": [
        {
          "output_type": "execute_result",
          "execution_count": 4,
          "data": {
            "text/html": "<div>\n<style scoped>\n    .dataframe tbody tr th:only-of-type {\n        vertical-align: middle;\n    }\n\n    .dataframe tbody tr th {\n        vertical-align: top;\n    }\n\n    .dataframe thead th {\n        text-align: right;\n    }\n</style>\n<table border=\"1\" class=\"dataframe\">\n  <thead>\n    <tr style=\"text-align: right;\">\n      <th></th>\n      <th>unit</th>\n      <th>cycle</th>\n      <th>os1</th>\n      <th>os2</th>\n      <th>os3</th>\n      <th>sm1</th>\n      <th>sm2</th>\n      <th>sm3</th>\n      <th>sm4</th>\n      <th>sm5</th>\n      <th>...</th>\n      <th>sm13</th>\n      <th>sm14</th>\n      <th>sm15</th>\n      <th>sm16</th>\n      <th>sm17</th>\n      <th>sm18</th>\n      <th>sm19</th>\n      <th>sm20</th>\n      <th>sm21</th>\n      <th>rul</th>\n    </tr>\n  </thead>\n  <tbody>\n    <tr>\n      <th>0</th>\n      <td>1</td>\n      <td>1</td>\n      <td>-0.0007</td>\n      <td>-0.0004</td>\n      <td>100.0</td>\n      <td>518.67</td>\n      <td>641.82</td>\n      <td>1589.70</td>\n      <td>1400.60</td>\n      <td>14.62</td>\n      <td>...</td>\n      <td>2388.02</td>\n      <td>8138.62</td>\n      <td>8.4195</td>\n      <td>0.03</td>\n      <td>392</td>\n      <td>2388</td>\n      <td>100.0</td>\n      <td>39.06</td>\n      <td>23.4190</td>\n      <td>191</td>\n    </tr>\n    <tr>\n      <th>1</th>\n      <td>1</td>\n      <td>2</td>\n      <td>0.0019</td>\n      <td>-0.0003</td>\n      <td>100.0</td>\n      <td>518.67</td>\n      <td>642.15</td>\n      <td>1591.82</td>\n      <td>1403.14</td>\n      <td>14.62</td>\n      <td>...</td>\n      <td>2388.07</td>\n      <td>8131.49</td>\n      <td>8.4318</td>\n      <td>0.03</td>\n      <td>392</td>\n      <td>2388</td>\n      <td>100.0</td>\n      <td>39.00</td>\n      <td>23.4236</td>\n      <td>190</td>\n    </tr>\n    <tr>\n      <th>2</th>\n      <td>1</td>\n      <td>3</td>\n      <td>-0.0043</td>\n      <td>0.0003</td>\n      <td>100.0</td>\n      <td>518.67</td>\n      <td>642.35</td>\n      <td>1587.99</td>\n      <td>1404.20</td>\n      <td>14.62</td>\n      <td>...</td>\n      <td>2388.03</td>\n      <td>8133.23</td>\n      <td>8.4178</td>\n      <td>0.03</td>\n      <td>390</td>\n      <td>2388</td>\n      <td>100.0</td>\n      <td>38.95</td>\n      <td>23.3442</td>\n      <td>189</td>\n    </tr>\n    <tr>\n      <th>3</th>\n      <td>1</td>\n      <td>4</td>\n      <td>0.0007</td>\n      <td>0.0000</td>\n      <td>100.0</td>\n      <td>518.67</td>\n      <td>642.35</td>\n      <td>1582.79</td>\n      <td>1401.87</td>\n      <td>14.62</td>\n      <td>...</td>\n      <td>2388.08</td>\n      <td>8133.83</td>\n      <td>8.3682</td>\n      <td>0.03</td>\n      <td>392</td>\n      <td>2388</td>\n      <td>100.0</td>\n      <td>38.88</td>\n      <td>23.3739</td>\n      <td>188</td>\n    </tr>\n    <tr>\n      <th>4</th>\n      <td>1</td>\n      <td>5</td>\n      <td>-0.0019</td>\n      <td>-0.0002</td>\n      <td>100.0</td>\n      <td>518.67</td>\n      <td>642.37</td>\n      <td>1582.85</td>\n      <td>1406.22</td>\n      <td>14.62</td>\n      <td>...</td>\n      <td>2388.04</td>\n      <td>8133.80</td>\n      <td>8.4294</td>\n      <td>0.03</td>\n      <td>393</td>\n      <td>2388</td>\n      <td>100.0</td>\n      <td>38.90</td>\n      <td>23.4044</td>\n      <td>187</td>\n    </tr>\n  </tbody>\n</table>\n<p>5 rows × 27 columns</p>\n</div>",
            "text/plain": "   unit  cycle     os1     os2    os3     sm1     sm2      sm3      sm4  \\\n0     1      1 -0.0007 -0.0004  100.0  518.67  641.82  1589.70  1400.60   \n1     1      2  0.0019 -0.0003  100.0  518.67  642.15  1591.82  1403.14   \n2     1      3 -0.0043  0.0003  100.0  518.67  642.35  1587.99  1404.20   \n3     1      4  0.0007  0.0000  100.0  518.67  642.35  1582.79  1401.87   \n4     1      5 -0.0019 -0.0002  100.0  518.67  642.37  1582.85  1406.22   \n\n     sm5 ...      sm13     sm14    sm15  sm16  sm17  sm18   sm19   sm20  \\\n0  14.62 ...   2388.02  8138.62  8.4195  0.03   392  2388  100.0  39.06   \n1  14.62 ...   2388.07  8131.49  8.4318  0.03   392  2388  100.0  39.00   \n2  14.62 ...   2388.03  8133.23  8.4178  0.03   390  2388  100.0  38.95   \n3  14.62 ...   2388.08  8133.83  8.3682  0.03   392  2388  100.0  38.88   \n4  14.62 ...   2388.04  8133.80  8.4294  0.03   393  2388  100.0  38.90   \n\n      sm21  rul  \n0  23.4190  191  \n1  23.4236  190  \n2  23.3442  189  \n3  23.3739  188  \n4  23.4044  187  \n\n[5 rows x 27 columns]"
          },
          "metadata": {}
        }
      ]
    },
    {
      "metadata": {},
      "cell_type": "markdown",
      "source": "最初に注意してほしいのは、0 RUL に近づくにつれてセンサーの測定値が変化しているように見えることです。これは、ビジネス価値にとって十分に役立つモデルを作成できそうだというを意味します。\n\nこれで、 Automated ML を使用してこのデータでモデルを訓練する準備が整いました。"
    },
    {
      "metadata": {},
      "cell_type": "markdown",
      "source": "## 3. Automated ML"
    },
    {
      "metadata": {},
      "cell_type": "markdown",
      "source": "ここでは、Azure Automated ML パッケージを利用してセンサーのスケーリング、センサーの選択を自動化し、さまざまな種類の ML モデルを自動的に訓練して評価します。"
    },
    {
      "metadata": {},
      "cell_type": "markdown",
      "source": "Automated ML 用の Azure ML ライブラリをインポートします。"
    },
    {
      "metadata": {
        "trusted": true
      },
      "cell_type": "code",
      "source": "import logging\nimport os\nimport random\nimport time\n\nfrom matplotlib import pyplot as plt\nfrom matplotlib.pyplot import imshow\nimport numpy as np\nimport pandas as pd\n\nimport azureml.core\nfrom azureml.core.experiment import Experiment\nfrom azureml.core.workspace import Workspace\nfrom azureml.train.automl import AutoMLConfig\nfrom azureml.train.automl.run import AutoMLRun\nfrom azureml.widgets import RunDetails\nfrom azureml.core.model import Model",
      "execution_count": 5,
      "outputs": []
    },
    {
      "metadata": {},
      "cell_type": "markdown",
      "source": "Automated ML を実行するには、Machine Learning Workspace の資格情報を入力してください。マイクロソフトの MFA (Multi-Factor Authentication) を実行する必要があります。下のセルを実行して、表示される認証手順に従ってください。\n\n**訳注**  \n下のセルを実行する前に、Azure ポータルで **Azure Machine Learning ワークスペース** を作成してください。手順は [ここ](https://docs.microsoft.com/ja-jp/azure/machine-learning/service/setup-create-workspace) を参照してください。\n\nまた、認証に失敗したという警告 (\"Warning: Falling back to use azure cli login credentials.\") が表示された場合は、それに続く表示に従ってデバイスログインしてください。下のセルを実行する時点で認証されていないので、警告表示は正しい動作です。"
    },
    {
      "metadata": {
        "trusted": true
      },
      "cell_type": "code",
      "source": "#subscription_id = \"<Your SubscriptionId>\" #所有者または共同管理者である必要があります\n#resource_group = \"<Resource group - new or existing>\" #所有者または共同管理者である必要があります\n#workspace_name = \"<workspace to be created>\" #ワークスペース名\n#workspace_region = \"<azureregion>\" #リージョン\n\nsubscription_id = \"225795c5-6697-4433-bfa7-20c891a0db76\" #所有者または共同管理者である必要があります\nresource_group = \"ganseo201903\" #所有者または共同管理者である必要があります\nworkspace_name = \"ganseo201903\" #ワークスペース名\nworkspace_region = \"eastus2\" #リージョン\n\n# 以下が設定値の例です\n#subscription_id = \"381b38e9-9840-4719-a5a0-61d9585e1e91\" #所有者または共同管理者である必要があります\n#resource_group = \"automl_nasa_newrg\" #所有者または共同管理者である必要があります\n#workspace_name = \"automatedml_nasa_aznb\" #ワークスペース名\n#workspace_region = \"eastus2\" #リージョン",
      "execution_count": null,
      "outputs": []
    },
    {
      "metadata": {},
      "cell_type": "markdown",
      "source": "Azure ML ワークスペースを作成します。"
    },
    {
      "metadata": {
        "trusted": true
      },
      "cell_type": "code",
      "source": "# Workspace クラスをインポートして、Azure ML SDK バージョンを確認します\nfrom azureml.core import Workspace\n\nws = Workspace.create(name = workspace_name,\n                      subscription_id = subscription_id,\n                      resource_group = resource_group, \n                      location = workspace_region,                      \n                      exist_ok=True)\nws.get_details()",
      "execution_count": null,
      "outputs": []
    },
    {
      "metadata": {},
      "cell_type": "markdown",
      "source": "クラスターで利用するために設定を保存します。"
    },
    {
      "metadata": {
        "trusted": true
      },
      "cell_type": "code",
      "source": "from azureml.core import Workspace\n\nws = Workspace(workspace_name = workspace_name,\n               subscription_id = subscription_id,\n               resource_group = resource_group)\n\n# Subscription ID、リソースグループ名、ワークスペース名を aml_config/config.json に保存\nws.write_config()",
      "execution_count": null,
      "outputs": []
    },
    {
      "metadata": {},
      "cell_type": "markdown",
      "source": "実験名を定義します。"
    },
    {
      "metadata": {
        "trusted": true
      },
      "cell_type": "code",
      "source": "# 実験の名前を選択してプロジェクトフォルダを指定します。\nexperiment_name = 'automl-predictive-rul'\nproject_folder = './sample_projects/automl-demo-predmain'\n\nexperiment = Experiment(ws, experiment_name)\n\noutput = {}\noutput['SDK version'] = azureml.core.VERSION\noutput['Subscription ID'] = ws.subscription_id\noutput['Workspace Name'] = ws.name\noutput['Resource Group'] = ws.resource_group\noutput['Location'] = ws.location\noutput['Project Directory'] = project_folder\noutput['Experiment Name'] = experiment.name\npd.set_option('display.max_colwidth', -1)\npd.DataFrame(data = output, index = ['']).T",
      "execution_count": null,
      "outputs": []
    },
    {
      "metadata": {},
      "cell_type": "markdown",
      "source": "トレーニングデータを作成します。"
    },
    {
      "metadata": {
        "trusted": true
      },
      "cell_type": "code",
      "source": "# トレーニングデータを作成する\nX_train = train_new.iloc[:,2:26].values\ny_train = train_new.iloc[:,26:27].values.astype(int).flatten()",
      "execution_count": null,
      "outputs": []
    },
    {
      "metadata": {},
      "cell_type": "markdown",
      "source": "Automated ML がモデルの学習に使用する配列にデータをフォーマットします。例として、以下に X, Yの 1行分を表示します。"
    },
    {
      "metadata": {
        "trusted": true
      },
      "cell_type": "code",
      "source": "X_train[0]",
      "execution_count": null,
      "outputs": []
    },
    {
      "metadata": {
        "trusted": true
      },
      "cell_type": "code",
      "source": "y_train[0]",
      "execution_count": null,
      "outputs": []
    },
    {
      "metadata": {
        "trusted": true
      },
      "cell_type": "code",
      "source": "from sklearn.model_selection import train_test_split\nX_train, X_valid, y_train, y_valid = train_test_split(X_train,\n                                                    y_train,\n                                                    test_size=0.3,\n                                                    random_state=100)\n\nX_valid, X_test, y_valid, y_test = train_test_split(X_valid,\n                                                    y_valid,\n                                                    test_size=0.3,\n                                                    random_state=100)\n\nX_train = pd.DataFrame(X_train)\nX_valid = pd.DataFrame(X_valid)\nX_test = pd.DataFrame(X_test)",
      "execution_count": null,
      "outputs": []
    },
    {
      "metadata": {
        "trusted": true
      },
      "cell_type": "code",
      "source": "X_test[0:1].values.tolist()",
      "execution_count": null,
      "outputs": []
    },
    {
      "metadata": {},
      "cell_type": "markdown",
      "source": "テレメトリを有効にします。"
    },
    {
      "metadata": {
        "trusted": true
      },
      "cell_type": "code",
      "source": "from azureml.telemetry import set_diagnostics_collection\nset_diagnostics_collection(send_diagnostics = True)",
      "execution_count": null,
      "outputs": []
    },
    {
      "metadata": {},
      "cell_type": "markdown",
      "source": "これで Automated ML を設定する準備が整いました。予測したいもの、使用したい精度メトリック、試したいモデルの数、その他のパラメータに関する情報を提供します。Automated ML は自動的にデータをスケールします。"
    },
    {
      "metadata": {},
      "cell_type": "markdown",
      "source": "## Automated ML を設定する\n\nこれらのパラメータを使用することができます。  \n\n|Property|Description|\n|-|-|\n|**task**|classification or regression|\n|**primary_metric**|This is the metric that you want to optimize. Classification supports the following primary metrics: <br><i>accuracy</i><br><i>AUC_weighted</i><br><i>average_precision_score_weighted</i><br><i>norm_macro_recall</i><br><i>precision_score_weighted</i>|\n|**primary_metric**|This is the metric that you want to optimize. Regression supports the following primary metrics: <br><i>spearman_correlation</i><br><i>normalized_root_mean_squared_error</i><br><i>r2_score</i><br><i>normalized_mean_absolute_error</i>|\n|**iteration_timeout_minutes**|Time limit in minutes for each iteration.|\n|**iterations**|Number of iterations. In each iteration AutoML trains a specific pipeline with the data.|\n|**n_cross_validations**|Number of cross validation splits.|\n|**X**|(sparse) array-like, shape = [n_samples, n_features]|\n|**y**|(sparse) array-like, shape = [n_samples, ], [n_samples, n_classes]<br>Multi-class targets. An indicator matrix turns on multilabel classification. This should be an array of integers.|\n|**path**|Relative path to the project folder. AutoML stores configuration files for the experiment under this folder. You can specify a new empty folder.|\n|**preprocess**|set this to True to enable pre-processing of data eg. string to numeric using one-hot encoding|\n|**exit_score**|Target score for experiment. It is associated with the metric. eg. exit_score=0.995 will exit experiment after that|"
    },
    {
      "metadata": {
        "trusted": true
      },
      "cell_type": "code",
      "source": "## ローカルコンピュート\nAutoml_config = AutoMLConfig(task = 'regression',\n                             primary_metric = 'r2_score',\n                             iteration_timeout_minutes = 5,\n                             iterations = 3,\n                             max_cores_per_iteration = 1,\n                             preprocess = False,\n                             experiment_exit_score = 0.985,\n                             #blacklist_models = ['kNN','LinearSVM','RandomForestRegressor'],\n                             whitelist_models = ['ExtremeRandomTrees','ElasticNet','LightGBM'],\n                             X = X_train,\n                             y = y_train,\n                             X_valid = X_valid,\n                             y_valid = y_valid,\n                             #n_cross_validations = 3,\n                             debug_log = 'automl_errors.log',\n                             verbosity=logging.ERROR,\n                             path=project_folder)",
      "execution_count": null,
      "outputs": []
    },
    {
      "metadata": {},
      "cell_type": "markdown",
      "source": "以上で、Automated ML を実行する準備が整いました。この手順には数分かかることがありますが、Automated ML では、モデルが上記で指定したメトリックによってトレーニングおよび評価される間でも最新情報が提供されます。Automated ML は、どのスケーリング方法が使用されたのかも教えてくれます。各 ML モデルトレーニングからの情報は、ML ワークスペースの実験セクションに格納され、Azure Portal を通して確認できます。"
    },
    {
      "metadata": {
        "trusted": true
      },
      "cell_type": "code",
      "source": "# Automated ML を使って、複数のモデルを学習する\nexperiment=Experiment(ws, experiment_name)\nlocal_run = experiment.submit(Automl_config, show_output=True)",
      "execution_count": null,
      "outputs": []
    },
    {
      "metadata": {},
      "cell_type": "markdown",
      "source": "Widget UX\n\n**訳注** ノートブックを Jupyter Lab で実行している場合には、次のセルは失敗するかもしれません。"
    },
    {
      "metadata": {
        "trusted": true
      },
      "cell_type": "code",
      "source": "RunDetails(local_run).show()",
      "execution_count": null,
      "outputs": []
    },
    {
      "metadata": {},
      "cell_type": "markdown",
      "source": "以上で、最良のモデルを取得できました。"
    },
    {
      "metadata": {
        "trusted": true
      },
      "cell_type": "code",
      "source": "# 最高の精度を持つ実行を探す\nbest_run, fitted_model = local_run.get_output()\nprint(best_run)",
      "execution_count": null,
      "outputs": []
    },
    {
      "metadata": {},
      "cell_type": "markdown",
      "source": "## 3. モデルの配置"
    },
    {
      "metadata": {
        "trusted": true
      },
      "cell_type": "code",
      "source": "# 最良のモデルを登録する\ndescription = 'AutoML-RUL-Regression-20190213'\ntags = None\nlocal_run.register_model(description=description, tags=tags)\nlocal_run.model_id # Use this id to deploy the model as a web service in Azure",
      "execution_count": null,
      "outputs": []
    },
    {
      "metadata": {},
      "cell_type": "markdown",
      "source": "ML ワークスペースにモデルを登録すると、Azure Portal に表示されます。\n\n今度はモデルを REST API としてデプロイして、1行または複数行の \"X\" データを指定して、予測された 'RUL' 値を返すことができます。これを実現するために、AML ワークスペースにコンテナーイメージを作成し、そのイメージを Azure の ACI サービスの Container インスタンスとして展開します。その後、データを送信して予測された「RUL」値を受け取る IPアドレスを取得します。\n\n必要なものは3つあります: \n1. A score.py: init および run 関数を含み、モデルをロードしてモデルを作成します\n2. A myenv.yml: モデルを実行する python 環境に関する情報を含みます\n3. コンテナーイメージおよびサービスのための設定ファイル: Azure ML サービスによって提供されます\n\n以下のセルでこれらを設定します。**上記のセルで提供されている登録モデル名** を使用する必要があります。\n\n**訳注** 登録モデル名はすぐ上のセルの実行結果に表示されています。"
    },
    {
      "metadata": {
        "trusted": true
      },
      "cell_type": "code",
      "source": "%%writefile score.py\n# スコアリングするスクリプト\nimport json\nimport numpy as np\nimport os\nimport pickle\nfrom sklearn.externals import joblib\nfrom sklearn.linear_model import LogisticRegression\n\nfrom azureml.core.model import Model\n\nimport azureml.train.automl\n\ndef init():\n    global model\n    # モデル名を使ったモデルファイルのパスを取得する\n    model_path = Model.get_model_path('<<modelid>>')  # <<modelid>> の部分は実際の登録モデル名で置換\n    print(model_path)\n    model = joblib.load(model_path)\n    \n\ndef run(raw_data):\n    # データを準備委する\n    data = (np.array(json.loads(raw_data)['data'])).reshape(1,-1)\n    # 予測\n    y_hat = model.predict(data)\n    return json.dumps(y_hat.tolist())",
      "execution_count": null,
      "outputs": []
    },
    {
      "metadata": {
        "trusted": true
      },
      "cell_type": "code",
      "source": "from azureml.core.conda_dependencies import CondaDependencies\n\nmyenv = CondaDependencies.create(conda_packages=['numpy','scikit-learn','lightgbm'], pip_packages=['azureml-sdk[automl]'])\n\nconda_env_file_name = 'myenv.yml'\nmyenv.save_to_file('.', conda_env_file_name)",
      "execution_count": null,
      "outputs": []
    },
    {
      "metadata": {
        "trusted": true
      },
      "cell_type": "code",
      "source": "with open(\"myenv.yml\",\"r\") as f:\n    print(f.read())",
      "execution_count": null,
      "outputs": []
    },
    {
      "metadata": {},
      "cell_type": "markdown",
      "source": "**もし、上のファイルの pip セクションで \"- azureml-train-automl\" が表示されない場合は、手動で追加する必要があります。**\n\n**訳注**\nazureml-train-automl は下のセルでインストールできます。インストール済みの状態で下のセルを実行しても、問題ありません。"
    },
    {
      "metadata": {
        "trusted": true
      },
      "cell_type": "code",
      "source": "# 追加インストール\n!pip install azureml-train-automl",
      "execution_count": null,
      "outputs": []
    },
    {
      "metadata": {},
      "cell_type": "markdown",
      "source": "ここで、Webサービスを設定します。"
    },
    {
      "metadata": {
        "trusted": true
      },
      "cell_type": "code",
      "source": "from azureml.core.webservice import AciWebservice\n\naciconfig = AciWebservice.deploy_configuration(cpu_cores=2, \n                                               memory_gb=2, \n                                               tags={\"data\": \"RUL\",  \"method\" : \"sklearn\"}, \n                                               description='Predict RUL with Azure AutoML')",
      "execution_count": null,
      "outputs": []
    },
    {
      "metadata": {},
      "cell_type": "markdown",
      "source": "最後に、コンテナイメージを設定してサービスをデプロイします。ファイル名が一致し、ワークスペースが変数 ws 設定されており、モデル名が正しいことを確認してください。コンテナーイメージが作成され、Webサービスとして配置されます。\n\nこのプロセスには最大10分ほどかかることがあるので、しばらくお待ちください。定期的にプログレスバーを確認してみてください。\n\n**訳注**  \n<<modelid>> の部分は、実際の登録モデル名で置換してください。"
    },
    {
      "metadata": {
        "scrolled": true,
        "trusted": true
      },
      "cell_type": "code",
      "source": "%%time\nfrom azureml.core.webservice import Webservice\nfrom azureml.core.image import ContainerImage\n\n# コンテナーイメージを設定する\nimage_config = ContainerImage.image_configuration(execution_script=\"score.py\", \n                                                  runtime=\"python\", \n                                                  conda_file=\"myenv.yml\")\n\nservice = Webservice.deploy_from_model(workspace=ws,\n                                       name='automl-rul-regress',\n                                       deployment_config=aciconfig,\n                                       models=['<<modelid>>:1'],  # <<modelid>> の部分は実際の登録モデル名で置換\n                                       image_config=image_config)\n\nservice.wait_for_deployment(show_output=True)",
      "execution_count": null,
      "outputs": []
    },
    {
      "metadata": {},
      "cell_type": "markdown",
      "source": "確認のために、スコアリング関数の URI を取得できます。"
    },
    {
      "metadata": {
        "trusted": true
      },
      "cell_type": "code",
      "source": "print(service.scoring_uri)",
      "execution_count": null,
      "outputs": []
    },
    {
      "metadata": {},
      "cell_type": "markdown",
      "source": "サービスが機能しているかどうかを確認しましょう。ここで、X_train から単一行のデータを送信して、それが妥当な予測を返すかどうかを確認します。"
    },
    {
      "metadata": {
        "trusted": true
      },
      "cell_type": "code",
      "source": "import requests\nimport json\n\n# スコアリング用に、テストセットからランダムに行を選択\n#random_index = np.random.randint(0, len(X_train)-1)\ninput_data = \"{\\\"data\\\": \" + str(X_test[1:2].values.tolist()) + \"}\" #str(list(X_train[0].reshape(1,-1)[0])) + \"}\"\n\nheaders = {'Content-Type':'application/json'}\n\n# AKS デプロイには、ヘッダーに Service Key が必要\n# api_key = service.get_key()\n# headers = {'Content-Type':'application/json',  'Authorization':('Bearer '+ api_key)} \n\nresp = requests.post(service.scoring_uri, input_data, headers=headers)\n\nprint(\"POST to url\", service.scoring_uri)\nprint(\"input data:\", input_data)\nprint(\"label:\", y_test[1:2])\nprint(\"prediction:\", resp.text)",
      "execution_count": null,
      "outputs": []
    },
    {
      "metadata": {},
      "cell_type": "markdown",
      "source": "多数のフライト、つまりサイクルを経て、エンジンの状態が変わることが分かります。故障に近づくにつれて、予測通り \"RUL\" がゼロに近づきます。これは、予測モデルがエンジンの今後の故障の予測にどのように役立つかを示す良い例です。\n\n\"RUL\" の値が大きい場合は、このモデルがうまく機能しません。故障がまだ先なので、これは許容できる結果です。"
    },
    {
      "metadata": {},
      "cell_type": "markdown",
      "source": "これ以降 Azure の課金が発生しないように、不要になったサービスを削除します。"
    },
    {
      "metadata": {
        "trusted": true
      },
      "cell_type": "code",
      "source": "service.delete()",
      "execution_count": null,
      "outputs": []
    }
  ],
  "metadata": {
    "kernelspec": {
      "name": "python36",
      "display_name": "Python 3.6",
      "language": "python"
    },
    "language_info": {
      "mimetype": "text/x-python",
      "nbconvert_exporter": "python",
      "name": "python",
      "pygments_lexer": "ipython3",
      "version": "3.6.6",
      "file_extension": ".py",
      "codemirror_mode": {
        "version": 3,
        "name": "ipython"
      }
    }
  },
  "nbformat": 4,
  "nbformat_minor": 2
}